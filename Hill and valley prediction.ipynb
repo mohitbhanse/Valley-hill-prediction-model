{
 "cells": [
  {
   "cell_type": "markdown",
   "metadata": {
    "id": "dqZ-nhxiganh"
   },
   "source": [
    "# **Hill and valley prediction using logistic regression**"
   ]
  },
  {
   "cell_type": "markdown",
   "metadata": {
    "id": "gScHkw6jjrLo"
   },
   "source": [
    "-------------"
   ]
  },
  {
   "cell_type": "markdown",
   "metadata": {
    "id": "Xns_rCdhh-vZ"
   },
   "source": [
    "## **Get understanding about dataset**"
   ]
  },
  {
   "cell_type": "markdown",
   "metadata": {
    "id": "9sPvnFM1iI9l"
   },
   "source": [
    "Each record represent 100 points on a two dimensional graph. when plotted in order (from 1 to 100) as the y coordinate , the points will create either a hill (a \"bump in the terrain\") or a valley (a \"dip in the terrain\") seee the original source for some example of these graphs\n",
    "\n",
    "1-100: Labeled V##. Floating point values (numeric) the X-values\n",
    "\n",
    "101: Labeled \"class\". Binary {0,1} representing {valley,hill}"
   ]
  },
  {
   "cell_type": "markdown",
   "metadata": {
    "id": "r7GrZzX0iTlV"
   },
   "source": [
    "## **Import Library**"
   ]
  },
  {
   "cell_type": "code",
   "execution_count": 1,
   "metadata": {
    "id": "UkK6NH9DiW-X"
   },
   "outputs": [
    {
     "name": "stderr",
     "output_type": "stream",
     "text": [
      "C:\\Users\\91992\\anaconda3\\lib\\site-packages\\pandas\\core\\arrays\\masked.py:60: UserWarning: Pandas requires version '1.3.6' or newer of 'bottleneck' (version '1.3.5' currently installed).\n",
      "  from pandas.core import (\n"
     ]
    }
   ],
   "source": [
    "import pandas as pd"
   ]
  },
  {
   "cell_type": "code",
   "execution_count": 2,
   "metadata": {},
   "outputs": [],
   "source": [
    "import numpy as np"
   ]
  },
  {
   "cell_type": "markdown",
   "metadata": {
    "id": "9lHPQj1XiOUc"
   },
   "source": [
    "## **Import Data**"
   ]
  },
  {
   "cell_type": "code",
   "execution_count": 3,
   "metadata": {
    "id": "zcU1fdnGho6M"
   },
   "outputs": [],
   "source": [
    "df=pd.read_csv(\"Hill Valley Dataset.csv\")"
   ]
  },
  {
   "cell_type": "markdown",
   "metadata": {},
   "source": [
    "# Get the first five rows of dataframe"
   ]
  },
  {
   "cell_type": "code",
   "execution_count": 4,
   "metadata": {},
   "outputs": [
    {
     "data": {
      "text/html": [
       "<div>\n",
       "<style scoped>\n",
       "    .dataframe tbody tr th:only-of-type {\n",
       "        vertical-align: middle;\n",
       "    }\n",
       "\n",
       "    .dataframe tbody tr th {\n",
       "        vertical-align: top;\n",
       "    }\n",
       "\n",
       "    .dataframe thead th {\n",
       "        text-align: right;\n",
       "    }\n",
       "</style>\n",
       "<table border=\"1\" class=\"dataframe\">\n",
       "  <thead>\n",
       "    <tr style=\"text-align: right;\">\n",
       "      <th></th>\n",
       "      <th>V1</th>\n",
       "      <th>V2</th>\n",
       "      <th>V3</th>\n",
       "      <th>V4</th>\n",
       "      <th>V5</th>\n",
       "      <th>V6</th>\n",
       "      <th>V7</th>\n",
       "      <th>V8</th>\n",
       "      <th>V9</th>\n",
       "      <th>V10</th>\n",
       "      <th>...</th>\n",
       "      <th>V92</th>\n",
       "      <th>V93</th>\n",
       "      <th>V94</th>\n",
       "      <th>V95</th>\n",
       "      <th>V96</th>\n",
       "      <th>V97</th>\n",
       "      <th>V98</th>\n",
       "      <th>V99</th>\n",
       "      <th>V100</th>\n",
       "      <th>Class</th>\n",
       "    </tr>\n",
       "  </thead>\n",
       "  <tbody>\n",
       "    <tr>\n",
       "      <th>0</th>\n",
       "      <td>39.02</td>\n",
       "      <td>36.49</td>\n",
       "      <td>38.20</td>\n",
       "      <td>38.85</td>\n",
       "      <td>39.38</td>\n",
       "      <td>39.74</td>\n",
       "      <td>37.02</td>\n",
       "      <td>39.53</td>\n",
       "      <td>38.81</td>\n",
       "      <td>38.79</td>\n",
       "      <td>...</td>\n",
       "      <td>36.62</td>\n",
       "      <td>36.92</td>\n",
       "      <td>38.80</td>\n",
       "      <td>38.52</td>\n",
       "      <td>38.07</td>\n",
       "      <td>36.73</td>\n",
       "      <td>39.46</td>\n",
       "      <td>37.50</td>\n",
       "      <td>39.10</td>\n",
       "      <td>0</td>\n",
       "    </tr>\n",
       "    <tr>\n",
       "      <th>1</th>\n",
       "      <td>1.83</td>\n",
       "      <td>1.71</td>\n",
       "      <td>1.77</td>\n",
       "      <td>1.77</td>\n",
       "      <td>1.68</td>\n",
       "      <td>1.78</td>\n",
       "      <td>1.80</td>\n",
       "      <td>1.70</td>\n",
       "      <td>1.75</td>\n",
       "      <td>1.78</td>\n",
       "      <td>...</td>\n",
       "      <td>1.80</td>\n",
       "      <td>1.79</td>\n",
       "      <td>1.77</td>\n",
       "      <td>1.74</td>\n",
       "      <td>1.74</td>\n",
       "      <td>1.80</td>\n",
       "      <td>1.78</td>\n",
       "      <td>1.75</td>\n",
       "      <td>1.69</td>\n",
       "      <td>1</td>\n",
       "    </tr>\n",
       "    <tr>\n",
       "      <th>2</th>\n",
       "      <td>68177.69</td>\n",
       "      <td>66138.42</td>\n",
       "      <td>72981.88</td>\n",
       "      <td>74304.33</td>\n",
       "      <td>67549.66</td>\n",
       "      <td>69367.34</td>\n",
       "      <td>69169.41</td>\n",
       "      <td>73268.61</td>\n",
       "      <td>74465.84</td>\n",
       "      <td>72503.37</td>\n",
       "      <td>...</td>\n",
       "      <td>73438.88</td>\n",
       "      <td>71053.35</td>\n",
       "      <td>71112.62</td>\n",
       "      <td>74916.48</td>\n",
       "      <td>72571.58</td>\n",
       "      <td>66348.97</td>\n",
       "      <td>71063.72</td>\n",
       "      <td>67404.27</td>\n",
       "      <td>74920.24</td>\n",
       "      <td>1</td>\n",
       "    </tr>\n",
       "    <tr>\n",
       "      <th>3</th>\n",
       "      <td>44889.06</td>\n",
       "      <td>39191.86</td>\n",
       "      <td>40728.46</td>\n",
       "      <td>38576.36</td>\n",
       "      <td>45876.06</td>\n",
       "      <td>47034.00</td>\n",
       "      <td>46611.43</td>\n",
       "      <td>37668.32</td>\n",
       "      <td>40980.89</td>\n",
       "      <td>38466.15</td>\n",
       "      <td>...</td>\n",
       "      <td>42625.67</td>\n",
       "      <td>40684.20</td>\n",
       "      <td>46960.73</td>\n",
       "      <td>44546.80</td>\n",
       "      <td>45410.53</td>\n",
       "      <td>47139.44</td>\n",
       "      <td>43095.68</td>\n",
       "      <td>40888.34</td>\n",
       "      <td>39615.19</td>\n",
       "      <td>0</td>\n",
       "    </tr>\n",
       "    <tr>\n",
       "      <th>4</th>\n",
       "      <td>5.70</td>\n",
       "      <td>5.40</td>\n",
       "      <td>5.28</td>\n",
       "      <td>5.38</td>\n",
       "      <td>5.27</td>\n",
       "      <td>5.61</td>\n",
       "      <td>6.00</td>\n",
       "      <td>5.38</td>\n",
       "      <td>5.34</td>\n",
       "      <td>5.87</td>\n",
       "      <td>...</td>\n",
       "      <td>5.17</td>\n",
       "      <td>5.67</td>\n",
       "      <td>5.60</td>\n",
       "      <td>5.94</td>\n",
       "      <td>5.73</td>\n",
       "      <td>5.22</td>\n",
       "      <td>5.30</td>\n",
       "      <td>5.73</td>\n",
       "      <td>5.91</td>\n",
       "      <td>0</td>\n",
       "    </tr>\n",
       "  </tbody>\n",
       "</table>\n",
       "<p>5 rows × 101 columns</p>\n",
       "</div>"
      ],
      "text/plain": [
       "         V1        V2        V3        V4        V5        V6        V7  \\\n",
       "0     39.02     36.49     38.20     38.85     39.38     39.74     37.02   \n",
       "1      1.83      1.71      1.77      1.77      1.68      1.78      1.80   \n",
       "2  68177.69  66138.42  72981.88  74304.33  67549.66  69367.34  69169.41   \n",
       "3  44889.06  39191.86  40728.46  38576.36  45876.06  47034.00  46611.43   \n",
       "4      5.70      5.40      5.28      5.38      5.27      5.61      6.00   \n",
       "\n",
       "         V8        V9       V10  ...       V92       V93       V94       V95  \\\n",
       "0     39.53     38.81     38.79  ...     36.62     36.92     38.80     38.52   \n",
       "1      1.70      1.75      1.78  ...      1.80      1.79      1.77      1.74   \n",
       "2  73268.61  74465.84  72503.37  ...  73438.88  71053.35  71112.62  74916.48   \n",
       "3  37668.32  40980.89  38466.15  ...  42625.67  40684.20  46960.73  44546.80   \n",
       "4      5.38      5.34      5.87  ...      5.17      5.67      5.60      5.94   \n",
       "\n",
       "        V96       V97       V98       V99      V100  Class  \n",
       "0     38.07     36.73     39.46     37.50     39.10      0  \n",
       "1      1.74      1.80      1.78      1.75      1.69      1  \n",
       "2  72571.58  66348.97  71063.72  67404.27  74920.24      1  \n",
       "3  45410.53  47139.44  43095.68  40888.34  39615.19      0  \n",
       "4      5.73      5.22      5.30      5.73      5.91      0  \n",
       "\n",
       "[5 rows x 101 columns]"
      ]
     },
     "execution_count": 4,
     "metadata": {},
     "output_type": "execute_result"
    }
   ],
   "source": [
    "df.head()"
   ]
  },
  {
   "cell_type": "markdown",
   "metadata": {},
   "source": [
    "#  Get information of dataframe"
   ]
  },
  {
   "cell_type": "code",
   "execution_count": 5,
   "metadata": {},
   "outputs": [
    {
     "name": "stdout",
     "output_type": "stream",
     "text": [
      "<class 'pandas.core.frame.DataFrame'>\n",
      "RangeIndex: 1212 entries, 0 to 1211\n",
      "Columns: 101 entries, V1 to Class\n",
      "dtypes: float64(100), int64(1)\n",
      "memory usage: 956.5 KB\n"
     ]
    }
   ],
   "source": [
    "df.info()"
   ]
  },
  {
   "cell_type": "markdown",
   "metadata": {
    "id": "7PUnimBoiX-x"
   },
   "source": [
    "## **Describe Data**"
   ]
  },
  {
   "cell_type": "code",
   "execution_count": 6,
   "metadata": {
    "id": "kG15arusiZ8Z"
   },
   "outputs": [
    {
     "data": {
      "text/html": [
       "<div>\n",
       "<style scoped>\n",
       "    .dataframe tbody tr th:only-of-type {\n",
       "        vertical-align: middle;\n",
       "    }\n",
       "\n",
       "    .dataframe tbody tr th {\n",
       "        vertical-align: top;\n",
       "    }\n",
       "\n",
       "    .dataframe thead th {\n",
       "        text-align: right;\n",
       "    }\n",
       "</style>\n",
       "<table border=\"1\" class=\"dataframe\">\n",
       "  <thead>\n",
       "    <tr style=\"text-align: right;\">\n",
       "      <th></th>\n",
       "      <th>V1</th>\n",
       "      <th>V2</th>\n",
       "      <th>V3</th>\n",
       "      <th>V4</th>\n",
       "      <th>V5</th>\n",
       "      <th>V6</th>\n",
       "      <th>V7</th>\n",
       "      <th>V8</th>\n",
       "      <th>V9</th>\n",
       "      <th>V10</th>\n",
       "      <th>...</th>\n",
       "      <th>V92</th>\n",
       "      <th>V93</th>\n",
       "      <th>V94</th>\n",
       "      <th>V95</th>\n",
       "      <th>V96</th>\n",
       "      <th>V97</th>\n",
       "      <th>V98</th>\n",
       "      <th>V99</th>\n",
       "      <th>V100</th>\n",
       "      <th>Class</th>\n",
       "    </tr>\n",
       "  </thead>\n",
       "  <tbody>\n",
       "    <tr>\n",
       "      <th>count</th>\n",
       "      <td>1212.000000</td>\n",
       "      <td>1212.000000</td>\n",
       "      <td>1212.000000</td>\n",
       "      <td>1212.000000</td>\n",
       "      <td>1212.000000</td>\n",
       "      <td>1212.000000</td>\n",
       "      <td>1212.000000</td>\n",
       "      <td>1212.000000</td>\n",
       "      <td>1212.000000</td>\n",
       "      <td>1212.000000</td>\n",
       "      <td>...</td>\n",
       "      <td>1212.000000</td>\n",
       "      <td>1212.000000</td>\n",
       "      <td>1212.000000</td>\n",
       "      <td>1212.000000</td>\n",
       "      <td>1212.000000</td>\n",
       "      <td>1212.000000</td>\n",
       "      <td>1212.000000</td>\n",
       "      <td>1212.000000</td>\n",
       "      <td>1212.000000</td>\n",
       "      <td>1212.000000</td>\n",
       "    </tr>\n",
       "    <tr>\n",
       "      <th>mean</th>\n",
       "      <td>8169.091881</td>\n",
       "      <td>8144.306262</td>\n",
       "      <td>8192.653738</td>\n",
       "      <td>8176.868738</td>\n",
       "      <td>8128.297211</td>\n",
       "      <td>8173.030008</td>\n",
       "      <td>8188.582748</td>\n",
       "      <td>8183.641543</td>\n",
       "      <td>8154.670066</td>\n",
       "      <td>8120.767574</td>\n",
       "      <td>...</td>\n",
       "      <td>8120.056815</td>\n",
       "      <td>8125.917409</td>\n",
       "      <td>8158.793812</td>\n",
       "      <td>8140.885421</td>\n",
       "      <td>8213.480611</td>\n",
       "      <td>8185.594002</td>\n",
       "      <td>8140.195355</td>\n",
       "      <td>8192.960891</td>\n",
       "      <td>8156.197376</td>\n",
       "      <td>0.500000</td>\n",
       "    </tr>\n",
       "    <tr>\n",
       "      <th>std</th>\n",
       "      <td>17974.950461</td>\n",
       "      <td>17881.049734</td>\n",
       "      <td>18087.938901</td>\n",
       "      <td>17991.903982</td>\n",
       "      <td>17846.757963</td>\n",
       "      <td>17927.114105</td>\n",
       "      <td>18029.562695</td>\n",
       "      <td>18048.582159</td>\n",
       "      <td>17982.390713</td>\n",
       "      <td>17900.798206</td>\n",
       "      <td>...</td>\n",
       "      <td>17773.190621</td>\n",
       "      <td>17758.182403</td>\n",
       "      <td>17919.510371</td>\n",
       "      <td>17817.945646</td>\n",
       "      <td>18016.445265</td>\n",
       "      <td>17956.084223</td>\n",
       "      <td>17768.356106</td>\n",
       "      <td>18064.781479</td>\n",
       "      <td>17829.310973</td>\n",
       "      <td>0.500206</td>\n",
       "    </tr>\n",
       "    <tr>\n",
       "      <th>min</th>\n",
       "      <td>0.920000</td>\n",
       "      <td>0.900000</td>\n",
       "      <td>0.850000</td>\n",
       "      <td>0.890000</td>\n",
       "      <td>0.880000</td>\n",
       "      <td>0.860000</td>\n",
       "      <td>0.870000</td>\n",
       "      <td>0.650000</td>\n",
       "      <td>0.650000</td>\n",
       "      <td>0.620000</td>\n",
       "      <td>...</td>\n",
       "      <td>0.870000</td>\n",
       "      <td>0.900000</td>\n",
       "      <td>0.870000</td>\n",
       "      <td>0.880000</td>\n",
       "      <td>0.890000</td>\n",
       "      <td>0.890000</td>\n",
       "      <td>0.860000</td>\n",
       "      <td>0.910000</td>\n",
       "      <td>0.890000</td>\n",
       "      <td>0.000000</td>\n",
       "    </tr>\n",
       "    <tr>\n",
       "      <th>25%</th>\n",
       "      <td>19.602500</td>\n",
       "      <td>19.595000</td>\n",
       "      <td>18.925000</td>\n",
       "      <td>19.277500</td>\n",
       "      <td>19.210000</td>\n",
       "      <td>19.582500</td>\n",
       "      <td>18.690000</td>\n",
       "      <td>19.062500</td>\n",
       "      <td>19.532500</td>\n",
       "      <td>19.285000</td>\n",
       "      <td>...</td>\n",
       "      <td>19.197500</td>\n",
       "      <td>18.895000</td>\n",
       "      <td>19.237500</td>\n",
       "      <td>19.385000</td>\n",
       "      <td>19.027500</td>\n",
       "      <td>19.135000</td>\n",
       "      <td>19.205000</td>\n",
       "      <td>18.812500</td>\n",
       "      <td>19.145000</td>\n",
       "      <td>0.000000</td>\n",
       "    </tr>\n",
       "    <tr>\n",
       "      <th>50%</th>\n",
       "      <td>301.425000</td>\n",
       "      <td>295.205000</td>\n",
       "      <td>297.260000</td>\n",
       "      <td>299.720000</td>\n",
       "      <td>295.115000</td>\n",
       "      <td>294.380000</td>\n",
       "      <td>295.935000</td>\n",
       "      <td>290.850000</td>\n",
       "      <td>294.565000</td>\n",
       "      <td>295.160000</td>\n",
       "      <td>...</td>\n",
       "      <td>297.845000</td>\n",
       "      <td>295.420000</td>\n",
       "      <td>299.155000</td>\n",
       "      <td>293.355000</td>\n",
       "      <td>301.370000</td>\n",
       "      <td>296.960000</td>\n",
       "      <td>300.925000</td>\n",
       "      <td>299.200000</td>\n",
       "      <td>302.275000</td>\n",
       "      <td>0.500000</td>\n",
       "    </tr>\n",
       "    <tr>\n",
       "      <th>75%</th>\n",
       "      <td>5358.795000</td>\n",
       "      <td>5417.847500</td>\n",
       "      <td>5393.367500</td>\n",
       "      <td>5388.482500</td>\n",
       "      <td>5321.987500</td>\n",
       "      <td>5328.040000</td>\n",
       "      <td>5443.977500</td>\n",
       "      <td>5283.655000</td>\n",
       "      <td>5378.180000</td>\n",
       "      <td>5319.097500</td>\n",
       "      <td>...</td>\n",
       "      <td>5355.355000</td>\n",
       "      <td>5386.037500</td>\n",
       "      <td>5286.385000</td>\n",
       "      <td>5345.797500</td>\n",
       "      <td>5300.890000</td>\n",
       "      <td>5361.047500</td>\n",
       "      <td>5390.850000</td>\n",
       "      <td>5288.712500</td>\n",
       "      <td>5357.847500</td>\n",
       "      <td>1.000000</td>\n",
       "    </tr>\n",
       "    <tr>\n",
       "      <th>max</th>\n",
       "      <td>117807.870000</td>\n",
       "      <td>108896.480000</td>\n",
       "      <td>119031.350000</td>\n",
       "      <td>110212.590000</td>\n",
       "      <td>113000.470000</td>\n",
       "      <td>116848.390000</td>\n",
       "      <td>115609.240000</td>\n",
       "      <td>118522.320000</td>\n",
       "      <td>112895.900000</td>\n",
       "      <td>117798.300000</td>\n",
       "      <td>...</td>\n",
       "      <td>113858.680000</td>\n",
       "      <td>112948.830000</td>\n",
       "      <td>112409.570000</td>\n",
       "      <td>112933.730000</td>\n",
       "      <td>112037.220000</td>\n",
       "      <td>115110.420000</td>\n",
       "      <td>116431.960000</td>\n",
       "      <td>113291.960000</td>\n",
       "      <td>114533.760000</td>\n",
       "      <td>1.000000</td>\n",
       "    </tr>\n",
       "  </tbody>\n",
       "</table>\n",
       "<p>8 rows × 101 columns</p>\n",
       "</div>"
      ],
      "text/plain": [
       "                  V1             V2             V3             V4  \\\n",
       "count    1212.000000    1212.000000    1212.000000    1212.000000   \n",
       "mean     8169.091881    8144.306262    8192.653738    8176.868738   \n",
       "std     17974.950461   17881.049734   18087.938901   17991.903982   \n",
       "min         0.920000       0.900000       0.850000       0.890000   \n",
       "25%        19.602500      19.595000      18.925000      19.277500   \n",
       "50%       301.425000     295.205000     297.260000     299.720000   \n",
       "75%      5358.795000    5417.847500    5393.367500    5388.482500   \n",
       "max    117807.870000  108896.480000  119031.350000  110212.590000   \n",
       "\n",
       "                  V5             V6             V7             V8  \\\n",
       "count    1212.000000    1212.000000    1212.000000    1212.000000   \n",
       "mean     8128.297211    8173.030008    8188.582748    8183.641543   \n",
       "std     17846.757963   17927.114105   18029.562695   18048.582159   \n",
       "min         0.880000       0.860000       0.870000       0.650000   \n",
       "25%        19.210000      19.582500      18.690000      19.062500   \n",
       "50%       295.115000     294.380000     295.935000     290.850000   \n",
       "75%      5321.987500    5328.040000    5443.977500    5283.655000   \n",
       "max    113000.470000  116848.390000  115609.240000  118522.320000   \n",
       "\n",
       "                  V9            V10  ...            V92            V93  \\\n",
       "count    1212.000000    1212.000000  ...    1212.000000    1212.000000   \n",
       "mean     8154.670066    8120.767574  ...    8120.056815    8125.917409   \n",
       "std     17982.390713   17900.798206  ...   17773.190621   17758.182403   \n",
       "min         0.650000       0.620000  ...       0.870000       0.900000   \n",
       "25%        19.532500      19.285000  ...      19.197500      18.895000   \n",
       "50%       294.565000     295.160000  ...     297.845000     295.420000   \n",
       "75%      5378.180000    5319.097500  ...    5355.355000    5386.037500   \n",
       "max    112895.900000  117798.300000  ...  113858.680000  112948.830000   \n",
       "\n",
       "                 V94            V95            V96            V97  \\\n",
       "count    1212.000000    1212.000000    1212.000000    1212.000000   \n",
       "mean     8158.793812    8140.885421    8213.480611    8185.594002   \n",
       "std     17919.510371   17817.945646   18016.445265   17956.084223   \n",
       "min         0.870000       0.880000       0.890000       0.890000   \n",
       "25%        19.237500      19.385000      19.027500      19.135000   \n",
       "50%       299.155000     293.355000     301.370000     296.960000   \n",
       "75%      5286.385000    5345.797500    5300.890000    5361.047500   \n",
       "max    112409.570000  112933.730000  112037.220000  115110.420000   \n",
       "\n",
       "                 V98            V99           V100        Class  \n",
       "count    1212.000000    1212.000000    1212.000000  1212.000000  \n",
       "mean     8140.195355    8192.960891    8156.197376     0.500000  \n",
       "std     17768.356106   18064.781479   17829.310973     0.500206  \n",
       "min         0.860000       0.910000       0.890000     0.000000  \n",
       "25%        19.205000      18.812500      19.145000     0.000000  \n",
       "50%       300.925000     299.200000     302.275000     0.500000  \n",
       "75%      5390.850000    5288.712500    5357.847500     1.000000  \n",
       "max    116431.960000  113291.960000  114533.760000     1.000000  \n",
       "\n",
       "[8 rows x 101 columns]"
      ]
     },
     "execution_count": 6,
     "metadata": {},
     "output_type": "execute_result"
    }
   ],
   "source": [
    "df.describe()"
   ]
  },
  {
   "cell_type": "markdown",
   "metadata": {},
   "source": [
    "#  Get column names"
   ]
  },
  {
   "cell_type": "code",
   "execution_count": 7,
   "metadata": {},
   "outputs": [
    {
     "data": {
      "text/plain": [
       "Index(['V1', 'V2', 'V3', 'V4', 'V5', 'V6', 'V7', 'V8', 'V9', 'V10',\n",
       "       ...\n",
       "       'V92', 'V93', 'V94', 'V95', 'V96', 'V97', 'V98', 'V99', 'V100',\n",
       "       'Class'],\n",
       "      dtype='object', length=101)"
      ]
     },
     "execution_count": 7,
     "metadata": {},
     "output_type": "execute_result"
    }
   ],
   "source": [
    "df.columns"
   ]
  },
  {
   "cell_type": "code",
   "execution_count": 9,
   "metadata": {},
   "outputs": [
    {
     "name": "stdout",
     "output_type": "stream",
     "text": [
      "['V1', 'V2', 'V3', 'V4', 'V5', 'V6', 'V7', 'V8', 'V9', 'V10', 'V11', 'V12', 'V13', 'V14', 'V15', 'V16', 'V17', 'V18', 'V19', 'V20', 'V21', 'V22', 'V23', 'V24', 'V25', 'V26', 'V27', 'V28', 'V29', 'V30', 'V31', 'V32', 'V33', 'V34', 'V35', 'V36', 'V37', 'V38', 'V39', 'V40', 'V41', 'V42', 'V43', 'V44', 'V45', 'V46', 'V47', 'V48', 'V49', 'V50', 'V51', 'V52', 'V53', 'V54', 'V55', 'V56', 'V57', 'V58', 'V59', 'V60', 'V61', 'V62', 'V63', 'V64', 'V65', 'V66', 'V67', 'V68', 'V69', 'V70', 'V71', 'V72', 'V73', 'V74', 'V75', 'V76', 'V77', 'V78', 'V79', 'V80', 'V81', 'V82', 'V83', 'V84', 'V85', 'V86', 'V87', 'V88', 'V89', 'V90', 'V91', 'V92', 'V93', 'V94', 'V95', 'V96', 'V97', 'V98', 'V99', 'V100', 'Class']\n"
     ]
    }
   ],
   "source": [
    "print(df.columns.tolist())"
   ]
  },
  {
   "cell_type": "markdown",
   "metadata": {},
   "source": [
    "# Get shape fo dataframe"
   ]
  },
  {
   "cell_type": "code",
   "execution_count": 10,
   "metadata": {},
   "outputs": [
    {
     "data": {
      "text/plain": [
       "(1212, 101)"
      ]
     },
     "execution_count": 10,
     "metadata": {},
     "output_type": "execute_result"
    }
   ],
   "source": [
    "df.shape"
   ]
  },
  {
   "cell_type": "markdown",
   "metadata": {},
   "source": [
    "# Get unique values (class or label) in y variable"
   ]
  },
  {
   "cell_type": "code",
   "execution_count": 12,
   "metadata": {},
   "outputs": [
    {
     "data": {
      "text/plain": [
       "Class\n",
       "0    606\n",
       "1    606\n",
       "Name: count, dtype: int64"
      ]
     },
     "execution_count": 12,
     "metadata": {},
     "output_type": "execute_result"
    }
   ],
   "source": [
    "df['Class'].value_counts()"
   ]
  },
  {
   "cell_type": "code",
   "execution_count": 13,
   "metadata": {},
   "outputs": [
    {
     "data": {
      "text/html": [
       "<div>\n",
       "<style scoped>\n",
       "    .dataframe tbody tr th:only-of-type {\n",
       "        vertical-align: middle;\n",
       "    }\n",
       "\n",
       "    .dataframe tbody tr th {\n",
       "        vertical-align: top;\n",
       "    }\n",
       "\n",
       "    .dataframe thead th {\n",
       "        text-align: right;\n",
       "    }\n",
       "</style>\n",
       "<table border=\"1\" class=\"dataframe\">\n",
       "  <thead>\n",
       "    <tr style=\"text-align: right;\">\n",
       "      <th></th>\n",
       "      <th>V1</th>\n",
       "      <th>V2</th>\n",
       "      <th>V3</th>\n",
       "      <th>V4</th>\n",
       "      <th>V5</th>\n",
       "      <th>V6</th>\n",
       "      <th>V7</th>\n",
       "      <th>V8</th>\n",
       "      <th>V9</th>\n",
       "      <th>V10</th>\n",
       "      <th>...</th>\n",
       "      <th>V91</th>\n",
       "      <th>V92</th>\n",
       "      <th>V93</th>\n",
       "      <th>V94</th>\n",
       "      <th>V95</th>\n",
       "      <th>V96</th>\n",
       "      <th>V97</th>\n",
       "      <th>V98</th>\n",
       "      <th>V99</th>\n",
       "      <th>V100</th>\n",
       "    </tr>\n",
       "    <tr>\n",
       "      <th>Class</th>\n",
       "      <th></th>\n",
       "      <th></th>\n",
       "      <th></th>\n",
       "      <th></th>\n",
       "      <th></th>\n",
       "      <th></th>\n",
       "      <th></th>\n",
       "      <th></th>\n",
       "      <th></th>\n",
       "      <th></th>\n",
       "      <th></th>\n",
       "      <th></th>\n",
       "      <th></th>\n",
       "      <th></th>\n",
       "      <th></th>\n",
       "      <th></th>\n",
       "      <th></th>\n",
       "      <th></th>\n",
       "      <th></th>\n",
       "      <th></th>\n",
       "      <th></th>\n",
       "    </tr>\n",
       "  </thead>\n",
       "  <tbody>\n",
       "    <tr>\n",
       "      <th>0</th>\n",
       "      <td>7913.333251</td>\n",
       "      <td>7825.339967</td>\n",
       "      <td>7902.497294</td>\n",
       "      <td>7857.032079</td>\n",
       "      <td>7775.610198</td>\n",
       "      <td>7875.436337</td>\n",
       "      <td>7804.166584</td>\n",
       "      <td>7722.324802</td>\n",
       "      <td>7793.328416</td>\n",
       "      <td>7686.782046</td>\n",
       "      <td>...</td>\n",
       "      <td>7753.427244</td>\n",
       "      <td>7737.843366</td>\n",
       "      <td>7799.332079</td>\n",
       "      <td>7825.211700</td>\n",
       "      <td>7791.354010</td>\n",
       "      <td>7927.237112</td>\n",
       "      <td>7874.502343</td>\n",
       "      <td>7844.227459</td>\n",
       "      <td>7875.338713</td>\n",
       "      <td>7855.181172</td>\n",
       "    </tr>\n",
       "    <tr>\n",
       "      <th>1</th>\n",
       "      <td>8424.850512</td>\n",
       "      <td>8463.272558</td>\n",
       "      <td>8482.810182</td>\n",
       "      <td>8496.705396</td>\n",
       "      <td>8480.984224</td>\n",
       "      <td>8470.623680</td>\n",
       "      <td>8572.998911</td>\n",
       "      <td>8644.958284</td>\n",
       "      <td>8516.011716</td>\n",
       "      <td>8554.753102</td>\n",
       "      <td>...</td>\n",
       "      <td>8478.513399</td>\n",
       "      <td>8502.270264</td>\n",
       "      <td>8452.502739</td>\n",
       "      <td>8492.375924</td>\n",
       "      <td>8490.416832</td>\n",
       "      <td>8499.724109</td>\n",
       "      <td>8496.685660</td>\n",
       "      <td>8436.163251</td>\n",
       "      <td>8510.583069</td>\n",
       "      <td>8457.213581</td>\n",
       "    </tr>\n",
       "  </tbody>\n",
       "</table>\n",
       "<p>2 rows × 100 columns</p>\n",
       "</div>"
      ],
      "text/plain": [
       "                V1           V2           V3           V4           V5  \\\n",
       "Class                                                                    \n",
       "0      7913.333251  7825.339967  7902.497294  7857.032079  7775.610198   \n",
       "1      8424.850512  8463.272558  8482.810182  8496.705396  8480.984224   \n",
       "\n",
       "                V6           V7           V8           V9          V10  ...  \\\n",
       "Class                                                                   ...   \n",
       "0      7875.436337  7804.166584  7722.324802  7793.328416  7686.782046  ...   \n",
       "1      8470.623680  8572.998911  8644.958284  8516.011716  8554.753102  ...   \n",
       "\n",
       "               V91          V92          V93          V94          V95  \\\n",
       "Class                                                                    \n",
       "0      7753.427244  7737.843366  7799.332079  7825.211700  7791.354010   \n",
       "1      8478.513399  8502.270264  8452.502739  8492.375924  8490.416832   \n",
       "\n",
       "               V96          V97          V98          V99         V100  \n",
       "Class                                                                   \n",
       "0      7927.237112  7874.502343  7844.227459  7875.338713  7855.181172  \n",
       "1      8499.724109  8496.685660  8436.163251  8510.583069  8457.213581  \n",
       "\n",
       "[2 rows x 100 columns]"
      ]
     },
     "execution_count": 13,
     "metadata": {},
     "output_type": "execute_result"
    }
   ],
   "source": [
    "df.groupby('Class').mean()"
   ]
  },
  {
   "cell_type": "markdown",
   "metadata": {},
   "source": [
    "# Define y (dependent or label or target) and X (independent or feature or attribute)"
   ]
  },
  {
   "cell_type": "code",
   "execution_count": 14,
   "metadata": {},
   "outputs": [],
   "source": [
    "y = df['Class']"
   ]
  },
  {
   "cell_type": "code",
   "execution_count": 15,
   "metadata": {},
   "outputs": [
    {
     "data": {
      "text/plain": [
       "(1212,)"
      ]
     },
     "execution_count": 15,
     "metadata": {},
     "output_type": "execute_result"
    }
   ],
   "source": [
    "y.shape"
   ]
  },
  {
   "cell_type": "code",
   "execution_count": 16,
   "metadata": {},
   "outputs": [
    {
     "data": {
      "text/plain": [
       "0       0\n",
       "1       1\n",
       "2       1\n",
       "3       0\n",
       "4       0\n",
       "       ..\n",
       "1207    1\n",
       "1208    0\n",
       "1209    1\n",
       "1210    1\n",
       "1211    0\n",
       "Name: Class, Length: 1212, dtype: int64"
      ]
     },
     "execution_count": 16,
     "metadata": {},
     "output_type": "execute_result"
    }
   ],
   "source": [
    "y"
   ]
  },
  {
   "cell_type": "code",
   "execution_count": 19,
   "metadata": {},
   "outputs": [],
   "source": [
    "X = df[['V1', 'V2', 'V3', 'V4', 'V5', 'V6', 'V7', 'V8', 'V9', 'V10', 'V11', 'V12','V13', 'V14', 'V15', 'V16', 'V17', 'V18', 'V19', 'V20', 'V21', 'V22', 'V23', 'V24', 'V25', 'V26', 'V27', 'V28', 'V29', 'V30', 'V31', 'V32', 'V33', 'V34', 'V35', 'V36', 'V37', 'V38', 'V39', 'V40', 'V41', 'V42', 'V43', 'V44', 'V45', 'V46', 'V47', 'V48', 'V49', 'V50', 'V51', 'V52', 'V53', 'V54', 'V55', 'V56', 'V57', 'V58', 'V59', 'V60', 'V61', 'V62', 'V63', 'V64', 'V65', 'V66', 'V67', 'V68', 'V69', 'V70', 'V71', 'V72', 'V73', 'V74', 'V75', 'V76', 'V77', 'V78', 'V79', 'V80', 'V81', 'V82', 'V83', 'V84', 'V85', 'V86', 'V87', 'V88', 'V89', 'V90', 'V91', 'V92', 'V93', 'V94', 'V95', 'V96', 'V97', 'V98', 'V99', 'V100']]"
   ]
  },
  {
   "cell_type": "code",
   "execution_count": 20,
   "metadata": {},
   "outputs": [
    {
     "data": {
      "text/plain": [
       "(1212, 100)"
      ]
     },
     "execution_count": 20,
     "metadata": {},
     "output_type": "execute_result"
    }
   ],
   "source": [
    "X.shape"
   ]
  },
  {
   "cell_type": "code",
   "execution_count": 21,
   "metadata": {},
   "outputs": [
    {
     "data": {
      "text/html": [
       "<div>\n",
       "<style scoped>\n",
       "    .dataframe tbody tr th:only-of-type {\n",
       "        vertical-align: middle;\n",
       "    }\n",
       "\n",
       "    .dataframe tbody tr th {\n",
       "        vertical-align: top;\n",
       "    }\n",
       "\n",
       "    .dataframe thead th {\n",
       "        text-align: right;\n",
       "    }\n",
       "</style>\n",
       "<table border=\"1\" class=\"dataframe\">\n",
       "  <thead>\n",
       "    <tr style=\"text-align: right;\">\n",
       "      <th></th>\n",
       "      <th>V1</th>\n",
       "      <th>V2</th>\n",
       "      <th>V3</th>\n",
       "      <th>V4</th>\n",
       "      <th>V5</th>\n",
       "      <th>V6</th>\n",
       "      <th>V7</th>\n",
       "      <th>V8</th>\n",
       "      <th>V9</th>\n",
       "      <th>V10</th>\n",
       "      <th>...</th>\n",
       "      <th>V91</th>\n",
       "      <th>V92</th>\n",
       "      <th>V93</th>\n",
       "      <th>V94</th>\n",
       "      <th>V95</th>\n",
       "      <th>V96</th>\n",
       "      <th>V97</th>\n",
       "      <th>V98</th>\n",
       "      <th>V99</th>\n",
       "      <th>V100</th>\n",
       "    </tr>\n",
       "  </thead>\n",
       "  <tbody>\n",
       "    <tr>\n",
       "      <th>0</th>\n",
       "      <td>39.02</td>\n",
       "      <td>36.49</td>\n",
       "      <td>38.20</td>\n",
       "      <td>38.85</td>\n",
       "      <td>39.38</td>\n",
       "      <td>39.74</td>\n",
       "      <td>37.02</td>\n",
       "      <td>39.53</td>\n",
       "      <td>38.81</td>\n",
       "      <td>38.79</td>\n",
       "      <td>...</td>\n",
       "      <td>37.57</td>\n",
       "      <td>36.62</td>\n",
       "      <td>36.92</td>\n",
       "      <td>38.80</td>\n",
       "      <td>38.52</td>\n",
       "      <td>38.07</td>\n",
       "      <td>36.73</td>\n",
       "      <td>39.46</td>\n",
       "      <td>37.50</td>\n",
       "      <td>39.10</td>\n",
       "    </tr>\n",
       "    <tr>\n",
       "      <th>1</th>\n",
       "      <td>1.83</td>\n",
       "      <td>1.71</td>\n",
       "      <td>1.77</td>\n",
       "      <td>1.77</td>\n",
       "      <td>1.68</td>\n",
       "      <td>1.78</td>\n",
       "      <td>1.80</td>\n",
       "      <td>1.70</td>\n",
       "      <td>1.75</td>\n",
       "      <td>1.78</td>\n",
       "      <td>...</td>\n",
       "      <td>1.71</td>\n",
       "      <td>1.80</td>\n",
       "      <td>1.79</td>\n",
       "      <td>1.77</td>\n",
       "      <td>1.74</td>\n",
       "      <td>1.74</td>\n",
       "      <td>1.80</td>\n",
       "      <td>1.78</td>\n",
       "      <td>1.75</td>\n",
       "      <td>1.69</td>\n",
       "    </tr>\n",
       "    <tr>\n",
       "      <th>2</th>\n",
       "      <td>68177.69</td>\n",
       "      <td>66138.42</td>\n",
       "      <td>72981.88</td>\n",
       "      <td>74304.33</td>\n",
       "      <td>67549.66</td>\n",
       "      <td>69367.34</td>\n",
       "      <td>69169.41</td>\n",
       "      <td>73268.61</td>\n",
       "      <td>74465.84</td>\n",
       "      <td>72503.37</td>\n",
       "      <td>...</td>\n",
       "      <td>69384.71</td>\n",
       "      <td>73438.88</td>\n",
       "      <td>71053.35</td>\n",
       "      <td>71112.62</td>\n",
       "      <td>74916.48</td>\n",
       "      <td>72571.58</td>\n",
       "      <td>66348.97</td>\n",
       "      <td>71063.72</td>\n",
       "      <td>67404.27</td>\n",
       "      <td>74920.24</td>\n",
       "    </tr>\n",
       "    <tr>\n",
       "      <th>3</th>\n",
       "      <td>44889.06</td>\n",
       "      <td>39191.86</td>\n",
       "      <td>40728.46</td>\n",
       "      <td>38576.36</td>\n",
       "      <td>45876.06</td>\n",
       "      <td>47034.00</td>\n",
       "      <td>46611.43</td>\n",
       "      <td>37668.32</td>\n",
       "      <td>40980.89</td>\n",
       "      <td>38466.15</td>\n",
       "      <td>...</td>\n",
       "      <td>47653.60</td>\n",
       "      <td>42625.67</td>\n",
       "      <td>40684.20</td>\n",
       "      <td>46960.73</td>\n",
       "      <td>44546.80</td>\n",
       "      <td>45410.53</td>\n",
       "      <td>47139.44</td>\n",
       "      <td>43095.68</td>\n",
       "      <td>40888.34</td>\n",
       "      <td>39615.19</td>\n",
       "    </tr>\n",
       "    <tr>\n",
       "      <th>4</th>\n",
       "      <td>5.70</td>\n",
       "      <td>5.40</td>\n",
       "      <td>5.28</td>\n",
       "      <td>5.38</td>\n",
       "      <td>5.27</td>\n",
       "      <td>5.61</td>\n",
       "      <td>6.00</td>\n",
       "      <td>5.38</td>\n",
       "      <td>5.34</td>\n",
       "      <td>5.87</td>\n",
       "      <td>...</td>\n",
       "      <td>5.52</td>\n",
       "      <td>5.17</td>\n",
       "      <td>5.67</td>\n",
       "      <td>5.60</td>\n",
       "      <td>5.94</td>\n",
       "      <td>5.73</td>\n",
       "      <td>5.22</td>\n",
       "      <td>5.30</td>\n",
       "      <td>5.73</td>\n",
       "      <td>5.91</td>\n",
       "    </tr>\n",
       "    <tr>\n",
       "      <th>...</th>\n",
       "      <td>...</td>\n",
       "      <td>...</td>\n",
       "      <td>...</td>\n",
       "      <td>...</td>\n",
       "      <td>...</td>\n",
       "      <td>...</td>\n",
       "      <td>...</td>\n",
       "      <td>...</td>\n",
       "      <td>...</td>\n",
       "      <td>...</td>\n",
       "      <td>...</td>\n",
       "      <td>...</td>\n",
       "      <td>...</td>\n",
       "      <td>...</td>\n",
       "      <td>...</td>\n",
       "      <td>...</td>\n",
       "      <td>...</td>\n",
       "      <td>...</td>\n",
       "      <td>...</td>\n",
       "      <td>...</td>\n",
       "      <td>...</td>\n",
       "    </tr>\n",
       "    <tr>\n",
       "      <th>1207</th>\n",
       "      <td>13.00</td>\n",
       "      <td>12.87</td>\n",
       "      <td>13.27</td>\n",
       "      <td>13.04</td>\n",
       "      <td>13.19</td>\n",
       "      <td>12.53</td>\n",
       "      <td>14.31</td>\n",
       "      <td>13.33</td>\n",
       "      <td>13.63</td>\n",
       "      <td>14.55</td>\n",
       "      <td>...</td>\n",
       "      <td>12.89</td>\n",
       "      <td>12.48</td>\n",
       "      <td>12.15</td>\n",
       "      <td>13.15</td>\n",
       "      <td>12.35</td>\n",
       "      <td>13.58</td>\n",
       "      <td>13.86</td>\n",
       "      <td>12.88</td>\n",
       "      <td>13.87</td>\n",
       "      <td>13.51</td>\n",
       "    </tr>\n",
       "    <tr>\n",
       "      <th>1208</th>\n",
       "      <td>48.66</td>\n",
       "      <td>50.11</td>\n",
       "      <td>48.55</td>\n",
       "      <td>50.43</td>\n",
       "      <td>50.09</td>\n",
       "      <td>49.67</td>\n",
       "      <td>48.95</td>\n",
       "      <td>48.65</td>\n",
       "      <td>48.63</td>\n",
       "      <td>48.61</td>\n",
       "      <td>...</td>\n",
       "      <td>47.45</td>\n",
       "      <td>46.93</td>\n",
       "      <td>49.61</td>\n",
       "      <td>47.16</td>\n",
       "      <td>48.17</td>\n",
       "      <td>47.94</td>\n",
       "      <td>49.81</td>\n",
       "      <td>49.89</td>\n",
       "      <td>47.43</td>\n",
       "      <td>47.77</td>\n",
       "    </tr>\n",
       "    <tr>\n",
       "      <th>1209</th>\n",
       "      <td>10160.65</td>\n",
       "      <td>9048.63</td>\n",
       "      <td>8994.94</td>\n",
       "      <td>9514.39</td>\n",
       "      <td>9814.74</td>\n",
       "      <td>10195.24</td>\n",
       "      <td>10031.47</td>\n",
       "      <td>10202.28</td>\n",
       "      <td>9152.99</td>\n",
       "      <td>9591.75</td>\n",
       "      <td>...</td>\n",
       "      <td>10413.41</td>\n",
       "      <td>9068.11</td>\n",
       "      <td>9191.80</td>\n",
       "      <td>9275.04</td>\n",
       "      <td>9848.18</td>\n",
       "      <td>9074.17</td>\n",
       "      <td>9601.74</td>\n",
       "      <td>10366.24</td>\n",
       "      <td>8997.60</td>\n",
       "      <td>9305.77</td>\n",
       "    </tr>\n",
       "    <tr>\n",
       "      <th>1210</th>\n",
       "      <td>34.81</td>\n",
       "      <td>35.07</td>\n",
       "      <td>34.98</td>\n",
       "      <td>32.37</td>\n",
       "      <td>34.16</td>\n",
       "      <td>34.03</td>\n",
       "      <td>33.31</td>\n",
       "      <td>32.48</td>\n",
       "      <td>35.63</td>\n",
       "      <td>32.48</td>\n",
       "      <td>...</td>\n",
       "      <td>33.18</td>\n",
       "      <td>32.76</td>\n",
       "      <td>35.03</td>\n",
       "      <td>32.89</td>\n",
       "      <td>31.91</td>\n",
       "      <td>33.85</td>\n",
       "      <td>35.28</td>\n",
       "      <td>32.49</td>\n",
       "      <td>32.83</td>\n",
       "      <td>34.82</td>\n",
       "    </tr>\n",
       "    <tr>\n",
       "      <th>1211</th>\n",
       "      <td>8489.43</td>\n",
       "      <td>7672.98</td>\n",
       "      <td>9132.14</td>\n",
       "      <td>7985.73</td>\n",
       "      <td>8226.85</td>\n",
       "      <td>8554.28</td>\n",
       "      <td>8838.87</td>\n",
       "      <td>8967.24</td>\n",
       "      <td>8635.14</td>\n",
       "      <td>8544.37</td>\n",
       "      <td>...</td>\n",
       "      <td>7747.70</td>\n",
       "      <td>8609.73</td>\n",
       "      <td>9209.48</td>\n",
       "      <td>8496.33</td>\n",
       "      <td>8724.01</td>\n",
       "      <td>8219.99</td>\n",
       "      <td>8550.86</td>\n",
       "      <td>8679.43</td>\n",
       "      <td>8389.31</td>\n",
       "      <td>8712.80</td>\n",
       "    </tr>\n",
       "  </tbody>\n",
       "</table>\n",
       "<p>1212 rows × 100 columns</p>\n",
       "</div>"
      ],
      "text/plain": [
       "            V1        V2        V3        V4        V5        V6        V7  \\\n",
       "0        39.02     36.49     38.20     38.85     39.38     39.74     37.02   \n",
       "1         1.83      1.71      1.77      1.77      1.68      1.78      1.80   \n",
       "2     68177.69  66138.42  72981.88  74304.33  67549.66  69367.34  69169.41   \n",
       "3     44889.06  39191.86  40728.46  38576.36  45876.06  47034.00  46611.43   \n",
       "4         5.70      5.40      5.28      5.38      5.27      5.61      6.00   \n",
       "...        ...       ...       ...       ...       ...       ...       ...   \n",
       "1207     13.00     12.87     13.27     13.04     13.19     12.53     14.31   \n",
       "1208     48.66     50.11     48.55     50.43     50.09     49.67     48.95   \n",
       "1209  10160.65   9048.63   8994.94   9514.39   9814.74  10195.24  10031.47   \n",
       "1210     34.81     35.07     34.98     32.37     34.16     34.03     33.31   \n",
       "1211   8489.43   7672.98   9132.14   7985.73   8226.85   8554.28   8838.87   \n",
       "\n",
       "            V8        V9       V10  ...       V91       V92       V93  \\\n",
       "0        39.53     38.81     38.79  ...     37.57     36.62     36.92   \n",
       "1         1.70      1.75      1.78  ...      1.71      1.80      1.79   \n",
       "2     73268.61  74465.84  72503.37  ...  69384.71  73438.88  71053.35   \n",
       "3     37668.32  40980.89  38466.15  ...  47653.60  42625.67  40684.20   \n",
       "4         5.38      5.34      5.87  ...      5.52      5.17      5.67   \n",
       "...        ...       ...       ...  ...       ...       ...       ...   \n",
       "1207     13.33     13.63     14.55  ...     12.89     12.48     12.15   \n",
       "1208     48.65     48.63     48.61  ...     47.45     46.93     49.61   \n",
       "1209  10202.28   9152.99   9591.75  ...  10413.41   9068.11   9191.80   \n",
       "1210     32.48     35.63     32.48  ...     33.18     32.76     35.03   \n",
       "1211   8967.24   8635.14   8544.37  ...   7747.70   8609.73   9209.48   \n",
       "\n",
       "           V94       V95       V96       V97       V98       V99      V100  \n",
       "0        38.80     38.52     38.07     36.73     39.46     37.50     39.10  \n",
       "1         1.77      1.74      1.74      1.80      1.78      1.75      1.69  \n",
       "2     71112.62  74916.48  72571.58  66348.97  71063.72  67404.27  74920.24  \n",
       "3     46960.73  44546.80  45410.53  47139.44  43095.68  40888.34  39615.19  \n",
       "4         5.60      5.94      5.73      5.22      5.30      5.73      5.91  \n",
       "...        ...       ...       ...       ...       ...       ...       ...  \n",
       "1207     13.15     12.35     13.58     13.86     12.88     13.87     13.51  \n",
       "1208     47.16     48.17     47.94     49.81     49.89     47.43     47.77  \n",
       "1209   9275.04   9848.18   9074.17   9601.74  10366.24   8997.60   9305.77  \n",
       "1210     32.89     31.91     33.85     35.28     32.49     32.83     34.82  \n",
       "1211   8496.33   8724.01   8219.99   8550.86   8679.43   8389.31   8712.80  \n",
       "\n",
       "[1212 rows x 100 columns]"
      ]
     },
     "execution_count": 21,
     "metadata": {},
     "output_type": "execute_result"
    }
   ],
   "source": [
    "X"
   ]
  },
  {
   "cell_type": "markdown",
   "metadata": {
    "id": "oBGX4Ekniriz"
   },
   "source": [
    "## **Data Visualization**"
   ]
  },
  {
   "cell_type": "markdown",
   "metadata": {
    "id": "lW-OIRK0iuzO"
   },
   "source": [
    "get plot of first two rows"
   ]
  },
  {
   "cell_type": "code",
   "execution_count": 25,
   "metadata": {},
   "outputs": [],
   "source": [
    "import matplotlib.pyplot as plt"
   ]
  },
  {
   "cell_type": "code",
   "execution_count": 29,
   "metadata": {},
   "outputs": [
    {
     "data": {
      "text/plain": [
       "(array([30., 32., 34., 36., 38., 40., 42.]),\n",
       " [Text(0, 30.0, '30'),\n",
       "  Text(0, 32.0, '32'),\n",
       "  Text(0, 34.0, '34'),\n",
       "  Text(0, 36.0, '36'),\n",
       "  Text(0, 38.0, '38'),\n",
       "  Text(0, 40.0, '40'),\n",
       "  Text(0, 42.0, '42')])"
      ]
     },
     "execution_count": 29,
     "metadata": {},
     "output_type": "execute_result"
    },
    {
     "data": {
      "image/png": "[encoded data removed]",
      "text/plain": [
       "<Figure size 640x480 with 1 Axes>"
      ]
     },
     "metadata": {},
     "output_type": "display_data"
    }
   ],
   "source": [
    "plt.plot(X.iloc[0,:])\n",
    "plt.title('Valley')\n",
    "#plt.yticks(rotation=45)\n"
   ]
  },
  {
   "cell_type": "code",
   "execution_count": 30,
   "metadata": {},
   "outputs": [
    {
     "data": {
      "text/plain": [
       "Text(0.5, 1.0, 'Hill')"
      ]
     },
     "execution_count": 30,
     "metadata": {},
     "output_type": "execute_result"
    },
    {
     "data": {
      "image/png": "[encoded data removed]",
      "text/plain": [
       "<Figure size 640x480 with 1 Axes>"
      ]
     },
     "metadata": {},
     "output_type": "display_data"
    }
   ],
   "source": [
    "plt.plot(X.iloc[1,:])\n",
    "plt.title(\"Hill\")"
   ]
  },
  {
   "cell_type": "markdown",
   "metadata": {},
   "source": [
    "# Get X variables standardized"
   ]
  },
  {
   "cell_type": "markdown",
   "metadata": {},
   "source": [
    "Standardization of dataset is a common requirement for many machine learning estimators implemeted  in skikit learn they might behave badly if the idividual features do not more or less look like standard normally distributed data: Gaussian with zero mean and unit variance \n",
    "\n",
    "\n",
    "Next approach is go for MinMax Scaler"
   ]
  },
  {
   "cell_type": "code",
   "execution_count": 32,
   "metadata": {},
   "outputs": [],
   "source": [
    "from sklearn.preprocessing import StandardScaler"
   ]
  },
  {
   "cell_type": "code",
   "execution_count": 34,
   "metadata": {},
   "outputs": [],
   "source": [
    "ss = StandardScaler()"
   ]
  },
  {
   "cell_type": "code",
   "execution_count": 35,
   "metadata": {},
   "outputs": [],
   "source": [
    "X = ss.fit_transform(X)"
   ]
  },
  {
   "cell_type": "code",
   "execution_count": 36,
   "metadata": {},
   "outputs": [
    {
     "data": {
      "text/plain": [
       "array([[-0.45248681, -0.45361784, -0.45100881, ..., -0.45609618,\n",
       "        -0.45164274, -0.45545496],\n",
       "       [-0.45455665, -0.45556372, -0.45302369, ..., -0.45821768,\n",
       "        -0.45362255, -0.45755405],\n",
       "       [ 3.33983504,  3.24466709,  3.58338069, ...,  3.5427869 ,\n",
       "         3.27907378,  3.74616847],\n",
       "       ...,\n",
       "       [ 0.11084204,  0.0505953 ,  0.04437307, ...,  0.12533312,\n",
       "         0.04456025,  0.06450317],\n",
       "       [-0.45272112, -0.45369729, -0.45118691, ..., -0.45648861,\n",
       "        -0.45190136, -0.45569511],\n",
       "       [ 0.01782872, -0.02636986,  0.05196137, ...,  0.03036056,\n",
       "         0.01087365,  0.03123129]])"
      ]
     },
     "execution_count": 36,
     "metadata": {},
     "output_type": "execute_result"
    }
   ],
   "source": [
    "X"
   ]
  },
  {
   "cell_type": "code",
   "execution_count": 38,
   "metadata": {},
   "outputs": [
    {
     "data": {
      "text/plain": [
       "(1212, 100)"
      ]
     },
     "execution_count": 38,
     "metadata": {},
     "output_type": "execute_result"
    }
   ],
   "source": [
    "X.shape"
   ]
  },
  {
   "cell_type": "markdown",
   "metadata": {
    "id": "90_0q_Pbi658"
   },
   "source": [
    "## **Train Test Split**"
   ]
  },
  {
   "cell_type": "code",
   "execution_count": 39,
   "metadata": {},
   "outputs": [],
   "source": [
    "from sklearn.model_selection import train_test_split"
   ]
  },
  {
   "cell_type": "code",
   "execution_count": 41,
   "metadata": {},
   "outputs": [],
   "source": [
    "X_train, X_test, y_train, y_test = train_test_split(X,y,test_size=0.3,stratify = y,random_state = 2529)"
   ]
  },
  {
   "cell_type": "code",
   "execution_count": 42,
   "metadata": {},
   "outputs": [
    {
     "data": {
      "text/plain": [
       "((848, 100), (364, 100), (848,), (364,))"
      ]
     },
     "execution_count": 42,
     "metadata": {},
     "output_type": "execute_result"
    }
   ],
   "source": [
    "X_train.shape, X_test.shape, y_train.shape, y_test.shape"
   ]
  },
  {
   "cell_type": "markdown",
   "metadata": {
    "id": "UqfyPOCYiiww"
   },
   "source": [
    "## **Get model train**"
   ]
  },
  {
   "cell_type": "code",
   "execution_count": 44,
   "metadata": {
    "id": "3cyr3fbGin0A"
   },
   "outputs": [],
   "source": [
    "from sklearn.linear_model import LogisticRegression"
   ]
  },
  {
   "cell_type": "code",
   "execution_count": 46,
   "metadata": {},
   "outputs": [],
   "source": [
    "lr = LogisticRegression()"
   ]
  },
  {
   "cell_type": "code",
   "execution_count": 47,
   "metadata": {},
   "outputs": [
    {
     "data": {
      "text/html": [
       "<style>#sk-container-id-1 {color: black;background-color: white;}#sk-container-id-1 pre{padding: 0;}#sk-container-id-1 div.sk-toggleable {background-color: white;}#sk-container-id-1 label.sk-toggleable__label {cursor: pointer;display: block;width: 100%;margin-bottom: 0;padding: 0.3em;box-sizing: border-box;text-align: center;}#sk-container-id-1 label.sk-toggleable__label-arrow:before {content: \"▸\";float: left;margin-right: 0.25em;color: #696969;}#sk-container-id-1 label.sk-toggleable__label-arrow:hover:before {color: black;}#sk-container-id-1 div.sk-estimator:hover label.sk-toggleable__label-arrow:before {color: black;}#sk-container-id-1 div.sk-toggleable__content {max-height: 0;max-width: 0;overflow: hidden;text-align: left;background-color: #f0f8ff;}#sk-container-id-1 div.sk-toggleable__content pre {margin: 0.2em;color: black;border-radius: 0.25em;background-color: #f0f8ff;}#sk-container-id-1 input.sk-toggleable__control:checked~div.sk-toggleable__content {max-height: 200px;max-width: 100%;overflow: auto;}#sk-container-id-1 input.sk-toggleable__control:checked~label.sk-toggleable__label-arrow:before {content: \"▾\";}#sk-container-id-1 div.sk-estimator input.sk-toggleable__control:checked~label.sk-toggleable__label {background-color: #d4ebff;}#sk-container-id-1 div.sk-label input.sk-toggleable__control:checked~label.sk-toggleable__label {background-color: #d4ebff;}#sk-container-id-1 input.sk-hidden--visually {border: 0;clip: rect(1px 1px 1px 1px);clip: rect(1px, 1px, 1px, 1px);height: 1px;margin: -1px;overflow: hidden;padding: 0;position: absolute;width: 1px;}#sk-container-id-1 div.sk-estimator {font-family: monospace;background-color: #f0f8ff;border: 1px dotted black;border-radius: 0.25em;box-sizing: border-box;margin-bottom: 0.5em;}#sk-container-id-1 div.sk-estimator:hover {background-color: #d4ebff;}#sk-container-id-1 div.sk-parallel-item::after {content: \"\";width: 100%;border-bottom: 1px solid gray;flex-grow: 1;}#sk-container-id-1 div.sk-label:hover label.sk-toggleable__label {background-color: #d4ebff;}#sk-container-id-1 div.sk-serial::before {content: \"\";position: absolute;border-left: 1px solid gray;box-sizing: border-box;top: 0;bottom: 0;left: 50%;z-index: 0;}#sk-container-id-1 div.sk-serial {display: flex;flex-direction: column;align-items: center;background-color: white;padding-right: 0.2em;padding-left: 0.2em;position: relative;}#sk-container-id-1 div.sk-item {position: relative;z-index: 1;}#sk-container-id-1 div.sk-parallel {display: flex;align-items: stretch;justify-content: center;background-color: white;position: relative;}#sk-container-id-1 div.sk-item::before, #sk-container-id-1 div.sk-parallel-item::before {content: \"\";position: absolute;border-left: 1px solid gray;box-sizing: border-box;top: 0;bottom: 0;left: 50%;z-index: -1;}#sk-container-id-1 div.sk-parallel-item {display: flex;flex-direction: column;z-index: 1;position: relative;background-color: white;}#sk-container-id-1 div.sk-parallel-item:first-child::after {align-self: flex-end;width: 50%;}#sk-container-id-1 div.sk-parallel-item:last-child::after {align-self: flex-start;width: 50%;}#sk-container-id-1 div.sk-parallel-item:only-child::after {width: 0;}#sk-container-id-1 div.sk-dashed-wrapped {border: 1px dashed gray;margin: 0 0.4em 0.5em 0.4em;box-sizing: border-box;padding-bottom: 0.4em;background-color: white;}#sk-container-id-1 div.sk-label label {font-family: monospace;font-weight: bold;display: inline-block;line-height: 1.2em;}#sk-container-id-1 div.sk-label-container {text-align: center;}#sk-container-id-1 div.sk-container {/* jupyter's `normalize.less` sets `[hidden] { display: none; }` but bootstrap.min.css set `[hidden] { display: none !important; }` so we also need the `!important` here to be able to override the default hidden behavior on the sphinx rendered scikit-learn.org. See: https://github.com/scikit-learn/scikit-learn/issues/21755 */display: inline-block !important;position: relative;}#sk-container-id-1 div.sk-text-repr-fallback {display: none;}</style><div id=\"sk-container-id-1\" class=\"sk-top-container\"><div class=\"sk-text-repr-fallback\"><pre>LogisticRegression()</pre><b>In a Jupyter environment, please rerun this cell to show the HTML representation or trust the notebook. <br />On GitHub, the HTML representation is unable to render, please try loading this page with nbviewer.org.</b></div><div class=\"sk-container\" hidden><div class=\"sk-item\"><div class=\"sk-estimator sk-toggleable\"><input class=\"sk-toggleable__control sk-hidden--visually\" id=\"sk-estimator-id-1\" type=\"checkbox\" checked><label for=\"sk-estimator-id-1\" class=\"sk-toggleable__label sk-toggleable__label-arrow\">LogisticRegression</label><div class=\"sk-toggleable__content\"><pre>LogisticRegression()</pre></div></div></div></div></div>"
      ],
      "text/plain": [
       "LogisticRegression()"
      ]
     },
     "execution_count": 47,
     "metadata": {},
     "output_type": "execute_result"
    }
   ],
   "source": [
    "lr.fit(X_train,y_train)"
   ]
  },
  {
   "cell_type": "markdown",
   "metadata": {},
   "source": [
    "## Get model prediction"
   ]
  },
  {
   "cell_type": "code",
   "execution_count": 50,
   "metadata": {},
   "outputs": [],
   "source": [
    "y_pred = lr.predict(X_test)"
   ]
  },
  {
   "cell_type": "code",
   "execution_count": 52,
   "metadata": {},
   "outputs": [
    {
     "data": {
      "text/plain": [
       "(364,)"
      ]
     },
     "execution_count": 52,
     "metadata": {},
     "output_type": "execute_result"
    }
   ],
   "source": [
    "y_pred.shape"
   ]
  },
  {
   "cell_type": "code",
   "execution_count": 53,
   "metadata": {},
   "outputs": [
    {
     "data": {
      "text/plain": [
       "array([0, 0, 0, 0, 0, 0, 0, 0, 0, 0, 0, 0, 0, 0, 0, 0, 1, 0, 0, 0, 1, 1,\n",
       "       0, 1, 0, 0, 0, 0, 0, 0, 1, 0, 1, 0, 0, 0, 0, 0, 0, 0, 0, 0, 1, 0,\n",
       "       0, 1, 0, 0, 0, 0, 0, 0, 0, 0, 0, 0, 0, 0, 0, 1, 0, 0, 0, 1, 0, 0,\n",
       "       0, 1, 0, 0, 0, 0, 0, 0, 0, 0, 1, 1, 0, 0, 0, 0, 0, 1, 0, 0, 0, 0,\n",
       "       0, 0, 0, 0, 0, 0, 0, 1, 1, 0, 0, 0, 0, 1, 0, 0, 0, 0, 0, 0, 0, 0,\n",
       "       1, 0, 0, 0, 0, 1, 0, 0, 0, 0, 0, 1, 0, 1, 0, 0, 0, 0, 0, 0, 0, 0,\n",
       "       0, 1, 0, 0, 0, 0, 1, 0, 0, 0, 0, 0, 0, 1, 0, 0, 0, 0, 0, 0, 0, 0,\n",
       "       0, 1, 0, 1, 0, 0, 0, 0, 0, 0, 0, 0, 0, 1, 0, 0, 0, 0, 0, 0, 0, 1,\n",
       "       0, 0, 0, 0, 0, 0, 0, 0, 0, 0, 1, 0, 0, 1, 0, 1, 0, 1, 0, 0, 0, 0,\n",
       "       0, 0, 0, 0, 0, 1, 1, 0, 0, 0, 0, 0, 0, 0, 1, 0, 1, 0, 0, 0, 1, 1,\n",
       "       0, 0, 0, 1, 0, 1, 0, 0, 0, 0, 1, 0, 1, 1, 0, 0, 1, 1, 0, 0, 1, 0,\n",
       "       0, 1, 0, 0, 0, 0, 0, 0, 0, 1, 0, 1, 0, 1, 0, 0, 0, 0, 1, 0, 1, 0,\n",
       "       0, 0, 0, 0, 0, 0, 0, 0, 0, 0, 0, 1, 0, 0, 0, 0, 0, 0, 0, 0, 0, 0,\n",
       "       0, 0, 1, 0, 0, 0, 1, 0, 1, 0, 1, 1, 1, 0, 1, 0, 0, 0, 1, 0, 1, 0,\n",
       "       1, 0, 0, 0, 0, 1, 1, 0, 0, 0, 0, 0, 0, 1, 0, 1, 0, 1, 1, 1, 0, 0,\n",
       "       0, 0, 0, 1, 0, 1, 0, 0, 0, 0, 0, 0, 0, 0, 1, 0, 0, 0, 1, 0, 0, 0,\n",
       "       0, 1, 0, 0, 0, 0, 0, 0, 0, 1, 0, 1], dtype=int64)"
      ]
     },
     "execution_count": 53,
     "metadata": {},
     "output_type": "execute_result"
    }
   ],
   "source": [
    "y_pred"
   ]
  },
  {
   "cell_type": "markdown",
   "metadata": {},
   "source": [
    "## Get probability of each Predicted class"
   ]
  },
  {
   "cell_type": "code",
   "execution_count": 57,
   "metadata": {
    "collapsed": true
   },
   "outputs": [
    {
     "data": {
      "text/plain": [
       "array([[0.56336747, 0.43663253],\n",
       "       [0.50327044, 0.49672956],\n",
       "       [0.57446525, 0.42553475],\n",
       "       [0.50737531, 0.49262469],\n",
       "       [0.50767484, 0.49232516],\n",
       "       [0.50870666, 0.49129334],\n",
       "       [0.50793223, 0.49206777],\n",
       "       [0.60357933, 0.39642067],\n",
       "       [0.51009661, 0.48990339],\n",
       "       [0.50964842, 0.49035158],\n",
       "       [0.50721218, 0.49278782],\n",
       "       [0.51503424, 0.48496576],\n",
       "       [0.93595848, 0.06404152],\n",
       "       [0.50968828, 0.49031172],\n",
       "       [0.52004965, 0.47995035],\n",
       "       [0.73731215, 0.26268785],\n",
       "       [0.47389175, 0.52610825],\n",
       "       [0.50781853, 0.49218147],\n",
       "       [0.50862151, 0.49137849],\n",
       "       [0.50863426, 0.49136574],\n",
       "       [0.2977193 , 0.7022807 ],\n",
       "       [0.38273294, 0.61726706],\n",
       "       [0.50865402, 0.49134598],\n",
       "       [0.28367983, 0.71632017],\n",
       "       [0.50873188, 0.49126812],\n",
       "       [0.50707767, 0.49292233],\n",
       "       [0.50896142, 0.49103858],\n",
       "       [0.50811703, 0.49188297],\n",
       "       [0.50861564, 0.49138436],\n",
       "       [0.50748426, 0.49251574],\n",
       "       [0.41565137, 0.58434863],\n",
       "       [0.51322181, 0.48677819],\n",
       "       [0.19965049, 0.80034951],\n",
       "       [0.74863319, 0.25136681],\n",
       "       [0.50865398, 0.49134602],\n",
       "       [0.5086257 , 0.4913743 ],\n",
       "       [0.50868088, 0.49131912],\n",
       "       [0.50853417, 0.49146583],\n",
       "       [0.51269837, 0.48730163],\n",
       "       [0.51582689, 0.48417311],\n",
       "       [0.50858131, 0.49141869],\n",
       "       [0.52031817, 0.47968183],\n",
       "       [0.28012033, 0.71987967],\n",
       "       [0.51125984, 0.48874016],\n",
       "       [0.54087681, 0.45912319],\n",
       "       [0.4673093 , 0.5326907 ],\n",
       "       [0.50822771, 0.49177229],\n",
       "       [0.52388235, 0.47611765],\n",
       "       [0.50104306, 0.49895694],\n",
       "       [0.50875878, 0.49124122],\n",
       "       [0.50864308, 0.49135692],\n",
       "       [0.54043017, 0.45956983],\n",
       "       [0.50846691, 0.49153309],\n",
       "       [0.50733909, 0.49266091],\n",
       "       [0.51454794, 0.48545206],\n",
       "       [0.50856531, 0.49143469],\n",
       "       [0.50860443, 0.49139557],\n",
       "       [0.5089318 , 0.4910682 ],\n",
       "       [0.55860177, 0.44139823],\n",
       "       [0.35542758, 0.64457242],\n",
       "       [0.50448804, 0.49551196],\n",
       "       [0.50859477, 0.49140523],\n",
       "       [0.50862338, 0.49137662],\n",
       "       [0.33507993, 0.66492007],\n",
       "       [0.51012551, 0.48987449],\n",
       "       [0.50853887, 0.49146113],\n",
       "       [0.56765079, 0.43234921],\n",
       "       [0.47833069, 0.52166931],\n",
       "       [0.50867158, 0.49132842],\n",
       "       [0.50644921, 0.49355079],\n",
       "       [0.50905606, 0.49094394],\n",
       "       [0.50862819, 0.49137181],\n",
       "       [0.51023794, 0.48976206],\n",
       "       [0.50829146, 0.49170854],\n",
       "       [0.50959789, 0.49040211],\n",
       "       [0.5932421 , 0.4067579 ],\n",
       "       [0.4083364 , 0.5916636 ],\n",
       "       [0.36255742, 0.63744258],\n",
       "       [0.77441824, 0.22558176],\n",
       "       [0.54037271, 0.45962729],\n",
       "       [0.50859016, 0.49140984],\n",
       "       [0.50863838, 0.49136162],\n",
       "       [0.50820567, 0.49179433],\n",
       "       [0.49643975, 0.50356025],\n",
       "       [0.50859096, 0.49140904],\n",
       "       [0.50399127, 0.49600873],\n",
       "       [0.50865065, 0.49134935],\n",
       "       [0.50908465, 0.49091535],\n",
       "       [0.50847814, 0.49152186],\n",
       "       [0.5005619 , 0.4994381 ],\n",
       "       [0.64764187, 0.35235813],\n",
       "       [0.50865281, 0.49134719],\n",
       "       [0.50962538, 0.49037462],\n",
       "       [0.52175697, 0.47824303],\n",
       "       [0.50861739, 0.49138261],\n",
       "       [0.00188839, 0.99811161],\n",
       "       [0.4588213 , 0.5411787 ],\n",
       "       [0.60418375, 0.39581625],\n",
       "       [0.50866317, 0.49133683],\n",
       "       [0.53064531, 0.46935469],\n",
       "       [0.51532312, 0.48467688],\n",
       "       [0.49165325, 0.50834675],\n",
       "       [0.54605779, 0.45394221],\n",
       "       [0.50882295, 0.49117705],\n",
       "       [0.50537037, 0.49462963],\n",
       "       [0.55736629, 0.44263371],\n",
       "       [0.50833566, 0.49166434],\n",
       "       [0.50016461, 0.49983539],\n",
       "       [0.50861674, 0.49138326],\n",
       "       [0.50792363, 0.49207637],\n",
       "       [0.2749314 , 0.7250686 ],\n",
       "       [0.50848812, 0.49151188],\n",
       "       [0.51027357, 0.48972643],\n",
       "       [0.50866441, 0.49133559],\n",
       "       [0.55368456, 0.44631544],\n",
       "       [0.14525854, 0.85474146],\n",
       "       [0.50812572, 0.49187428],\n",
       "       [0.50425647, 0.49574353],\n",
       "       [0.83669269, 0.16330731],\n",
       "       [0.51807397, 0.48192603],\n",
       "       [0.50934298, 0.49065702],\n",
       "       [0.38916506, 0.61083494],\n",
       "       [0.50855275, 0.49144725],\n",
       "       [0.48813828, 0.51186172],\n",
       "       [0.50865038, 0.49134962],\n",
       "       [0.50869173, 0.49130827],\n",
       "       [0.50748326, 0.49251674],\n",
       "       [0.51478619, 0.48521381],\n",
       "       [0.50957093, 0.49042907],\n",
       "       [0.56654945, 0.43345055],\n",
       "       [0.50531211, 0.49468789],\n",
       "       [0.52184119, 0.47815881],\n",
       "       [0.50901845, 0.49098155],\n",
       "       [0.47509928, 0.52490072],\n",
       "       [0.54368233, 0.45631767],\n",
       "       [0.50843524, 0.49156476],\n",
       "       [0.51352804, 0.48647196],\n",
       "       [0.50857315, 0.49142685],\n",
       "       [0.48070584, 0.51929416],\n",
       "       [0.50821325, 0.49178675],\n",
       "       [0.50859272, 0.49140728],\n",
       "       [0.61181157, 0.38818843],\n",
       "       [0.50871794, 0.49128206],\n",
       "       [0.50965749, 0.49034251],\n",
       "       [0.50876601, 0.49123399],\n",
       "       [0.26235734, 0.73764266],\n",
       "       [0.50862106, 0.49137894],\n",
       "       [0.71522884, 0.28477116],\n",
       "       [0.50880266, 0.49119734],\n",
       "       [0.50865621, 0.49134379],\n",
       "       [0.50858532, 0.49141468],\n",
       "       [0.50864694, 0.49135306],\n",
       "       [0.88654955, 0.11345045],\n",
       "       [0.50865949, 0.49134051],\n",
       "       [0.5086513 , 0.4913487 ],\n",
       "       [0.10671276, 0.89328724],\n",
       "       [0.50865431, 0.49134569],\n",
       "       [0.41188856, 0.58811144],\n",
       "       [0.55572721, 0.44427279],\n",
       "       [0.5139527 , 0.4860473 ],\n",
       "       [0.50861701, 0.49138299],\n",
       "       [0.89581576, 0.10418424],\n",
       "       [0.50894487, 0.49105513],\n",
       "       [0.50963746, 0.49036254],\n",
       "       [0.50845828, 0.49154172],\n",
       "       [0.62869578, 0.37130422],\n",
       "       [0.56013686, 0.43986314],\n",
       "       [0.41050714, 0.58949286],\n",
       "       [0.51594213, 0.48405787],\n",
       "       [0.51034509, 0.48965491],\n",
       "       [0.51006384, 0.48993616],\n",
       "       [0.50868319, 0.49131681],\n",
       "       [0.53572341, 0.46427659],\n",
       "       [0.50889256, 0.49110744],\n",
       "       [0.57188351, 0.42811649],\n",
       "       [0.49876239, 0.50123761],\n",
       "       [0.80087423, 0.19912577],\n",
       "       [0.50865019, 0.49134981],\n",
       "       [0.73386118, 0.26613882],\n",
       "       [0.58443601, 0.41556399],\n",
       "       [0.50888949, 0.49111051],\n",
       "       [0.508752  , 0.491248  ],\n",
       "       [0.50856461, 0.49143539],\n",
       "       [0.99289374, 0.00710626],\n",
       "       [0.50862524, 0.49137476],\n",
       "       [0.50902021, 0.49097979],\n",
       "       [0.42178744, 0.57821256],\n",
       "       [0.51195932, 0.48804068],\n",
       "       [0.50693389, 0.49306611],\n",
       "       [0.49439748, 0.50560252],\n",
       "       [0.50864175, 0.49135825],\n",
       "       [0.34064699, 0.65935301],\n",
       "       [0.50050914, 0.49949086],\n",
       "       [0.47805589, 0.52194411],\n",
       "       [0.50862881, 0.49137119],\n",
       "       [0.508821  , 0.491179  ],\n",
       "       [0.51986757, 0.48013243],\n",
       "       [0.50876518, 0.49123482],\n",
       "       [0.52968388, 0.47031612],\n",
       "       [0.5062446 , 0.4937554 ],\n",
       "       [0.50866743, 0.49133257],\n",
       "       [0.52908132, 0.47091868],\n",
       "       [0.51997509, 0.48002491],\n",
       "       [0.29951883, 0.70048117],\n",
       "       [0.49517008, 0.50482992],\n",
       "       [0.50677627, 0.49322373],\n",
       "       [0.50862001, 0.49137999],\n",
       "       [0.50847969, 0.49152031],\n",
       "       [0.50858717, 0.49141283],\n",
       "       [0.57059465, 0.42940535],\n",
       "       [0.60694766, 0.39305234],\n",
       "       [0.50848913, 0.49151087],\n",
       "       [0.4527021 , 0.5472979 ],\n",
       "       [0.59825756, 0.40174244],\n",
       "       [0.16132576, 0.83867424],\n",
       "       [0.50863968, 0.49136032],\n",
       "       [0.50972414, 0.49027586],\n",
       "       [0.50865443, 0.49134557],\n",
       "       [0.44337185, 0.55662815],\n",
       "       [0.46571339, 0.53428661],\n",
       "       [0.50860378, 0.49139622],\n",
       "       [0.50273779, 0.49726221],\n",
       "       [0.6542159 , 0.3457841 ],\n",
       "       [0.4883913 , 0.5116087 ],\n",
       "       [0.50863489, 0.49136511],\n",
       "       [0.03320691, 0.96679309],\n",
       "       [0.50858273, 0.49141727],\n",
       "       [0.50815538, 0.49184462],\n",
       "       [0.55923865, 0.44076135],\n",
       "       [0.50893223, 0.49106777],\n",
       "       [0.07230367, 0.92769633],\n",
       "       [0.50858327, 0.49141673],\n",
       "       [0.42245332, 0.57754668],\n",
       "       [0.42780691, 0.57219309],\n",
       "       [0.50889489, 0.49110511],\n",
       "       [0.52570591, 0.47429409],\n",
       "       [0.49822131, 0.50177869],\n",
       "       [0.30161909, 0.69838091],\n",
       "       [0.50821602, 0.49178398],\n",
       "       [0.50888754, 0.49111246],\n",
       "       [0.17537287, 0.82462713],\n",
       "       [0.50710608, 0.49289392],\n",
       "       [0.78121495, 0.21878505],\n",
       "       [0.48397773, 0.51602227],\n",
       "       [0.50854712, 0.49145288],\n",
       "       [0.51044187, 0.48955813],\n",
       "       [0.80138595, 0.19861405],\n",
       "       [0.50656731, 0.49343269],\n",
       "       [0.50568634, 0.49431366],\n",
       "       [0.50864424, 0.49135576],\n",
       "       [0.50865879, 0.49134121],\n",
       "       [0.30934699, 0.69065301],\n",
       "       [0.50848127, 0.49151873],\n",
       "       [0.05533462, 0.94466538],\n",
       "       [0.50864414, 0.49135586],\n",
       "       [0.45699695, 0.54300305],\n",
       "       [0.530461  , 0.469539  ],\n",
       "       [0.50863734, 0.49136266],\n",
       "       [0.50861177, 0.49138823],\n",
       "       [0.50890209, 0.49109791],\n",
       "       [0.49228284, 0.50771716],\n",
       "       [0.55054231, 0.44945769],\n",
       "       [0.49563703, 0.50436297],\n",
       "       [0.50864192, 0.49135808],\n",
       "       [0.5054738 , 0.4945262 ],\n",
       "       [0.50705971, 0.49294029],\n",
       "       [0.50850831, 0.49149169],\n",
       "       [0.5086352 , 0.4913648 ],\n",
       "       [0.60704278, 0.39295722],\n",
       "       [0.50861914, 0.49138086],\n",
       "       [0.50836722, 0.49163278],\n",
       "       [0.50845784, 0.49154216],\n",
       "       [0.51338141, 0.48661859],\n",
       "       [0.50859947, 0.49140053],\n",
       "       [0.50550938, 0.49449062],\n",
       "       [0.37827001, 0.62172999],\n",
       "       [0.50859183, 0.49140817],\n",
       "       [0.91470491, 0.08529509],\n",
       "       [0.50860402, 0.49139598],\n",
       "       [0.508465  , 0.491535  ],\n",
       "       [0.50858278, 0.49141722],\n",
       "       [0.50860143, 0.49139857],\n",
       "       [0.51559015, 0.48440985],\n",
       "       [0.50927133, 0.49072867],\n",
       "       [0.50931336, 0.49068664],\n",
       "       [0.51131582, 0.48868418],\n",
       "       [0.50854692, 0.49145308],\n",
       "       [0.50861367, 0.49138633],\n",
       "       [0.43520629, 0.56479371],\n",
       "       [0.50865081, 0.49134919],\n",
       "       [0.51146016, 0.48853984],\n",
       "       [0.50818656, 0.49181344],\n",
       "       [0.46802488, 0.53197512],\n",
       "       [0.50863682, 0.49136318],\n",
       "       [0.40298302, 0.59701698],\n",
       "       [0.52052633, 0.47947367],\n",
       "       [0.44184752, 0.55815248],\n",
       "       [0.45694074, 0.54305926],\n",
       "       [0.34477057, 0.65522943],\n",
       "       [0.50856501, 0.49143499],\n",
       "       [0.32961824, 0.67038176],\n",
       "       [0.50842328, 0.49157672],\n",
       "       [0.50862845, 0.49137155],\n",
       "       [0.50861593, 0.49138407],\n",
       "       [0.49982747, 0.50017253],\n",
       "       [0.50640422, 0.49359578],\n",
       "       [0.00939572, 0.99060428],\n",
       "       [0.50865035, 0.49134965],\n",
       "       [0.40727565, 0.59272435],\n",
       "       [0.50783684, 0.49216316],\n",
       "       [0.50863242, 0.49136758],\n",
       "       [0.50881998, 0.49118002],\n",
       "       [0.50626556, 0.49373444],\n",
       "       [0.48327862, 0.51672138],\n",
       "       [0.49892388, 0.50107612],\n",
       "       [0.50862423, 0.49137577],\n",
       "       [0.51207828, 0.48792172],\n",
       "       [0.87769394, 0.12230606],\n",
       "       [0.50885627, 0.49114373],\n",
       "       [0.50775449, 0.49224551],\n",
       "       [0.50885094, 0.49114906],\n",
       "       [0.4595365 , 0.5404635 ],\n",
       "       [0.50860035, 0.49139965],\n",
       "       [0.49737454, 0.50262546],\n",
       "       [0.50902564, 0.49097436],\n",
       "       [0.03768713, 0.96231287],\n",
       "       [0.46144814, 0.53855186],\n",
       "       [0.49909608, 0.50090392],\n",
       "       [0.71375124, 0.28624876],\n",
       "       [0.50867129, 0.49132871],\n",
       "       [0.63597672, 0.36402328],\n",
       "       [0.50894073, 0.49105927],\n",
       "       [0.53221109, 0.46778891],\n",
       "       [0.47359183, 0.52640817],\n",
       "       [0.51131847, 0.48868153],\n",
       "       [0.47711041, 0.52288959],\n",
       "       [0.50836874, 0.49163126],\n",
       "       [0.51791145, 0.48208855],\n",
       "       [0.50929635, 0.49070365],\n",
       "       [0.77824428, 0.22175572],\n",
       "       [0.50878257, 0.49121743],\n",
       "       [0.53444816, 0.46555184],\n",
       "       [0.68401987, 0.31598013],\n",
       "       [0.50837611, 0.49162389],\n",
       "       [0.49955897, 0.50044103],\n",
       "       [0.66733475, 0.33266525],\n",
       "       [0.5128702 , 0.4871298 ],\n",
       "       [0.51006846, 0.48993154],\n",
       "       [0.49493869, 0.50506131],\n",
       "       [0.50415419, 0.49584581],\n",
       "       [0.5087543 , 0.4912457 ],\n",
       "       [0.50859974, 0.49140026],\n",
       "       [0.51714636, 0.48285364],\n",
       "       [0.49828544, 0.50171456],\n",
       "       [0.50868248, 0.49131752],\n",
       "       [0.58878485, 0.41121515],\n",
       "       [0.50578151, 0.49421849],\n",
       "       [0.5086441 , 0.4913559 ],\n",
       "       [0.78691958, 0.21308042],\n",
       "       [0.5086532 , 0.4913468 ],\n",
       "       [0.50857376, 0.49142624],\n",
       "       [0.48168722, 0.51831278],\n",
       "       [0.50838597, 0.49161403],\n",
       "       [0.05333427, 0.94666573]])"
      ]
     },
     "execution_count": 57,
     "metadata": {},
     "output_type": "execute_result"
    }
   ],
   "source": [
    "lr.predict_proba(X_test)"
   ]
  },
  {
   "cell_type": "markdown",
   "metadata": {},
   "source": [
    "# Get model evaluation"
   ]
  },
  {
   "cell_type": "code",
   "execution_count": 59,
   "metadata": {},
   "outputs": [],
   "source": [
    "from sklearn.metrics import confusion_matrix, classification_report"
   ]
  },
  {
   "cell_type": "code",
   "execution_count": 60,
   "metadata": {},
   "outputs": [
    {
     "name": "stdout",
     "output_type": "stream",
     "text": [
      "[[181   1]\n",
      " [106  76]]\n"
     ]
    }
   ],
   "source": [
    "print(confusion_matrix(y_test, y_pred))"
   ]
  },
  {
   "cell_type": "code",
   "execution_count": 61,
   "metadata": {},
   "outputs": [
    {
     "name": "stdout",
     "output_type": "stream",
     "text": [
      "              precision    recall  f1-score   support\n",
      "\n",
      "           0       0.63      0.99      0.77       182\n",
      "           1       0.99      0.42      0.59       182\n",
      "\n",
      "    accuracy                           0.71       364\n",
      "   macro avg       0.81      0.71      0.68       364\n",
      "weighted avg       0.81      0.71      0.68       364\n",
      "\n"
     ]
    }
   ],
   "source": [
    "print(classification_report(y_test,y_pred))"
   ]
  },
  {
   "cell_type": "markdown",
   "metadata": {},
   "source": [
    "## Get Future Predictions"
   ]
  },
  {
   "cell_type": "markdown",
   "metadata": {},
   "source": [
    "Lets select a random  sample from existing dataset as new value\n",
    "\n",
    "Steps to follow\n",
    "\n",
    "1.Extract a random row using sample function\n",
    "\n",
    "2.Seperate X and y\n",
    "\n",
    "3.Standardize X\n",
    "\n",
    "4.Predict\n"
   ]
  },
  {
   "cell_type": "code",
   "execution_count": 62,
   "metadata": {},
   "outputs": [],
   "source": [
    "X_new = df.sample(1)"
   ]
  },
  {
   "cell_type": "code",
   "execution_count": 63,
   "metadata": {},
   "outputs": [
    {
     "data": {
      "text/html": [
       "<div>\n",
       "<style scoped>\n",
       "    .dataframe tbody tr th:only-of-type {\n",
       "        vertical-align: middle;\n",
       "    }\n",
       "\n",
       "    .dataframe tbody tr th {\n",
       "        vertical-align: top;\n",
       "    }\n",
       "\n",
       "    .dataframe thead th {\n",
       "        text-align: right;\n",
       "    }\n",
       "</style>\n",
       "<table border=\"1\" class=\"dataframe\">\n",
       "  <thead>\n",
       "    <tr style=\"text-align: right;\">\n",
       "      <th></th>\n",
       "      <th>V1</th>\n",
       "      <th>V2</th>\n",
       "      <th>V3</th>\n",
       "      <th>V4</th>\n",
       "      <th>V5</th>\n",
       "      <th>V6</th>\n",
       "      <th>V7</th>\n",
       "      <th>V8</th>\n",
       "      <th>V9</th>\n",
       "      <th>V10</th>\n",
       "      <th>...</th>\n",
       "      <th>V92</th>\n",
       "      <th>V93</th>\n",
       "      <th>V94</th>\n",
       "      <th>V95</th>\n",
       "      <th>V96</th>\n",
       "      <th>V97</th>\n",
       "      <th>V98</th>\n",
       "      <th>V99</th>\n",
       "      <th>V100</th>\n",
       "      <th>Class</th>\n",
       "    </tr>\n",
       "  </thead>\n",
       "  <tbody>\n",
       "    <tr>\n",
       "      <th>440</th>\n",
       "      <td>1068.7</td>\n",
       "      <td>1042.32</td>\n",
       "      <td>1260.73</td>\n",
       "      <td>1213.35</td>\n",
       "      <td>1078.48</td>\n",
       "      <td>1184.97</td>\n",
       "      <td>1095.21</td>\n",
       "      <td>1278.28</td>\n",
       "      <td>1020.5</td>\n",
       "      <td>1212.83</td>\n",
       "      <td>...</td>\n",
       "      <td>1104.99</td>\n",
       "      <td>1027.1</td>\n",
       "      <td>1020.64</td>\n",
       "      <td>1195.33</td>\n",
       "      <td>1101.46</td>\n",
       "      <td>1060.54</td>\n",
       "      <td>1127.53</td>\n",
       "      <td>1100.55</td>\n",
       "      <td>1258.75</td>\n",
       "      <td>1</td>\n",
       "    </tr>\n",
       "  </tbody>\n",
       "</table>\n",
       "<p>1 rows × 101 columns</p>\n",
       "</div>"
      ],
      "text/plain": [
       "         V1       V2       V3       V4       V5       V6       V7       V8  \\\n",
       "440  1068.7  1042.32  1260.73  1213.35  1078.48  1184.97  1095.21  1278.28   \n",
       "\n",
       "         V9      V10  ...      V92     V93      V94      V95      V96  \\\n",
       "440  1020.5  1212.83  ...  1104.99  1027.1  1020.64  1195.33  1101.46   \n",
       "\n",
       "         V97      V98      V99     V100  Class  \n",
       "440  1060.54  1127.53  1100.55  1258.75      1  \n",
       "\n",
       "[1 rows x 101 columns]"
      ]
     },
     "execution_count": 63,
     "metadata": {},
     "output_type": "execute_result"
    }
   ],
   "source": [
    "X_new"
   ]
  },
  {
   "cell_type": "code",
   "execution_count": 64,
   "metadata": {},
   "outputs": [
    {
     "data": {
      "text/plain": [
       "(1, 101)"
      ]
     },
     "execution_count": 64,
     "metadata": {},
     "output_type": "execute_result"
    }
   ],
   "source": [
    "X_new.shape"
   ]
  },
  {
   "cell_type": "code",
   "execution_count": 65,
   "metadata": {},
   "outputs": [],
   "source": [
    "X_new = X_new.drop('Class',axis=1)"
   ]
  },
  {
   "cell_type": "code",
   "execution_count": 66,
   "metadata": {},
   "outputs": [
    {
     "data": {
      "text/html": [
       "<div>\n",
       "<style scoped>\n",
       "    .dataframe tbody tr th:only-of-type {\n",
       "        vertical-align: middle;\n",
       "    }\n",
       "\n",
       "    .dataframe tbody tr th {\n",
       "        vertical-align: top;\n",
       "    }\n",
       "\n",
       "    .dataframe thead th {\n",
       "        text-align: right;\n",
       "    }\n",
       "</style>\n",
       "<table border=\"1\" class=\"dataframe\">\n",
       "  <thead>\n",
       "    <tr style=\"text-align: right;\">\n",
       "      <th></th>\n",
       "      <th>V1</th>\n",
       "      <th>V2</th>\n",
       "      <th>V3</th>\n",
       "      <th>V4</th>\n",
       "      <th>V5</th>\n",
       "      <th>V6</th>\n",
       "      <th>V7</th>\n",
       "      <th>V8</th>\n",
       "      <th>V9</th>\n",
       "      <th>V10</th>\n",
       "      <th>...</th>\n",
       "      <th>V91</th>\n",
       "      <th>V92</th>\n",
       "      <th>V93</th>\n",
       "      <th>V94</th>\n",
       "      <th>V95</th>\n",
       "      <th>V96</th>\n",
       "      <th>V97</th>\n",
       "      <th>V98</th>\n",
       "      <th>V99</th>\n",
       "      <th>V100</th>\n",
       "    </tr>\n",
       "  </thead>\n",
       "  <tbody>\n",
       "    <tr>\n",
       "      <th>440</th>\n",
       "      <td>1068.7</td>\n",
       "      <td>1042.32</td>\n",
       "      <td>1260.73</td>\n",
       "      <td>1213.35</td>\n",
       "      <td>1078.48</td>\n",
       "      <td>1184.97</td>\n",
       "      <td>1095.21</td>\n",
       "      <td>1278.28</td>\n",
       "      <td>1020.5</td>\n",
       "      <td>1212.83</td>\n",
       "      <td>...</td>\n",
       "      <td>1199.01</td>\n",
       "      <td>1104.99</td>\n",
       "      <td>1027.1</td>\n",
       "      <td>1020.64</td>\n",
       "      <td>1195.33</td>\n",
       "      <td>1101.46</td>\n",
       "      <td>1060.54</td>\n",
       "      <td>1127.53</td>\n",
       "      <td>1100.55</td>\n",
       "      <td>1258.75</td>\n",
       "    </tr>\n",
       "  </tbody>\n",
       "</table>\n",
       "<p>1 rows × 100 columns</p>\n",
       "</div>"
      ],
      "text/plain": [
       "         V1       V2       V3       V4       V5       V6       V7       V8  \\\n",
       "440  1068.7  1042.32  1260.73  1213.35  1078.48  1184.97  1095.21  1278.28   \n",
       "\n",
       "         V9      V10  ...      V91      V92     V93      V94      V95  \\\n",
       "440  1020.5  1212.83  ...  1199.01  1104.99  1027.1  1020.64  1195.33   \n",
       "\n",
       "         V96      V97      V98      V99     V100  \n",
       "440  1101.46  1060.54  1127.53  1100.55  1258.75  \n",
       "\n",
       "[1 rows x 100 columns]"
      ]
     },
     "execution_count": 66,
     "metadata": {},
     "output_type": "execute_result"
    }
   ],
   "source": [
    "X_new"
   ]
  },
  {
   "cell_type": "code",
   "execution_count": 67,
   "metadata": {},
   "outputs": [],
   "source": [
    "X_new = ss.fit_transform(X_new)"
   ]
  },
  {
   "cell_type": "code",
   "execution_count": 68,
   "metadata": {},
   "outputs": [],
   "source": [
    "y_pred_new = lr.predict(X_new)"
   ]
  },
  {
   "cell_type": "code",
   "execution_count": 69,
   "metadata": {},
   "outputs": [
    {
     "data": {
      "text/plain": [
       "array([1], dtype=int64)"
      ]
     },
     "execution_count": 69,
     "metadata": {},
     "output_type": "execute_result"
    }
   ],
   "source": [
    "y_pred_new"
   ]
  },
  {
   "cell_type": "code",
   "execution_count": 70,
   "metadata": {},
   "outputs": [
    {
     "data": {
      "text/plain": [
       "array([[0.49714997, 0.50285003]])"
      ]
     },
     "execution_count": 70,
     "metadata": {},
     "output_type": "execute_result"
    }
   ],
   "source": [
    "lr.predict_proba(X_new)"
   ]
  },
  {
   "cell_type": "markdown",
   "metadata": {
    "id": "Ybi8FR9Kjv00"
   },
   "source": [
    "## Explanation"
   ]
  },
  {
   "cell_type": "markdown",
   "metadata": {},
   "source": [
    "Understanding the Dataset\n",
    "Each record in the dataset represents 100 data points (features) as floating-point values labeled from V1 to V100. These points, when plotted in sequence, create patterns that resemble either a hill or a valley:\n",
    "\n",
    "Hill (class = 1): The pattern shows a \"bump\" or increase in values.\n",
    "Valley (class = 0): The pattern shows a \"dip\" or decrease in values.\n",
    "The target column, Class, is a binary variable where:\n",
    "\n",
    "0 represents a valley.\n",
    "1 represents a hill.\n",
    "Step 1: Importing Necessary Libraries\n",
    "First, import the libraries you'll need, including pandas for data handling and numpy for numerical operations:\n",
    "\n",
    "Step 2: Loading the Dataset\n",
    "Load the dataset and inspect its structure:\n",
    "\n",
    "Step 3: Basic Dataset Information\n",
    "To understand the data types, check for null values and verify the dimensions:\n",
    "df.info() provides data types and any missing values.\n",
    "df.describe() gives summary statistics for each feature.\n",
    "df['Class'].value_counts() ensures we have a balanced target variable.\n",
    "\n",
    "Step 4: Define Target (y) and Features (X)\n",
    "Separate the features (V1 to V100) and the target variable (Class):\n",
    "\n",
    "Step 5: Splitting Data for Training and Testing\n",
    "Split the data into training and testing sets to evaluate model performance:\n",
    "\n",
    "Step 6: Applying Logistic Regression\n",
    "Use logistic regression to train the model on the training data:\n",
    "\n",
    "Step 7: Model Prediction and Evaluation\n",
    "Predict on the test set and evaluate the model’s accuracy and confusion matrix:\n",
    "The accuracy_score provides the model's accuracy, while the confusion matrix helps assess performance on each class.\n",
    "\n",
    "Summary of Key Insights\n",
    "Balanced Classes: The dataset has an equal distribution of hill and valley classes, which is beneficial for binary classification.\n",
    "Data Characteristics: Each record represents a series of 100 points, which allows the logistic regression model to detect patterns that classify the terrain type.\n",
    "Evaluation Metrics: Accuracy and confusion matrix give insight into the model's predictive quality.\n",
    "This workflow should help you predict hill or valley patterns using logistic regression effectively. Let me know if you'd like further assistance with tuning or extending the analysis!"
   ]
  }
 ],
 "metadata": {
  "colab": {
   "authorship_tag": "ABX9TyPZl4d0nA5Qmq8X1mDqSb1O",
   "name": "Project Outline.ipynb",
   "provenance": []
  },
  "kernelspec": {
   "display_name": "Python 3 (ipykernel)",
   "language": "python",
   "name": "python3"
  },
  "language_info": {
   "codemirror_mode": {
    "name": "ipython",
    "version": 3
   },
   "file_extension": ".py",
   "mimetype": "text/x-python",
   "name": "python",
   "nbconvert_exporter": "python",
   "pygments_lexer": "ipython3",
   "version": "3.10.9"
  }
 },
 "nbformat": 4,
 "nbformat_minor": 1
}
